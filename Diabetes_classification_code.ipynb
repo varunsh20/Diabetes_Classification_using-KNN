{
 "cells": [
  {
   "cell_type": "code",
   "execution_count": 8,
   "metadata": {},
   "outputs": [
    {
     "name": "stdout",
     "output_type": "stream",
     "text": [
      "(576, 8)\n",
      "(576,)\n",
      "(192, 8)\n"
     ]
    },
    {
     "data": {
      "image/png": "[encoded data removed]",
      "text/plain": [
       "<Figure size 432x288 with 1 Axes>"
      ]
     },
     "metadata": {
      "needs_background": "light"
     },
     "output_type": "display_data"
    }
   ],
   "source": [
    "import numpy as np\n",
    "import pandas as pd\n",
    "import matplotlib.pyplot as plt\n",
    "\n",
    "dfX = pd.read_csv(\"Diabetes_XTrain.csv\")\n",
    "dfY = pd.read_csv(\"Diabetes_Ytrain.csv\")\n",
    "test = pd.read_csv(\"Diabetes_Xtest.csv\")\n",
    "X_train = dfX.values\n",
    "Y_train = dfY.values\n",
    "x_test = test.values\n",
    "Y_train = Y_train.reshape(-1,)\n",
    "print(X_train.shape)\n",
    "print(Y_train.shape)\n",
    "print(x_test.shape)\n",
    "\n",
    "\n",
    "\n",
    "counts = np.unique(Y_train,return_counts = True)\n",
    "plt.bar(counts[0],counts[1])\n",
    "plt.xlabel(\"Classes\")\n",
    "plt.ylabel(\"Number of examples\")\n",
    "plt.show()\n",
    "\n",
    "def distance(x1,x2):\n",
    "    return np.sqrt(sum((x1-x2)**2))\n",
    "\n",
    "def knn(X,Y,x,k=11):\n",
    "    vals = []\n",
    "    m = X.shape[0]\n",
    "    for i in range(m):        \n",
    "        d = distance(x,X[i])\n",
    "        vals.append((d,Y[i]))\n",
    "        vals = sorted(vals)\n",
    "        vals = vals[:k]\n",
    "        new_vals = np.unique(vals[:1],return_counts = True)\n",
    "        index = new_vals[1].argmax()\n",
    "        classes = new_vals[0][index]\n",
    "    return classes\n",
    "    \n",
    "    \n",
    "mylist = []\n",
    "file = \"Diabetes_classification.csv\" \n",
    "for i in range(x_test.shape[0]):\n",
    "    p = knn(X_train,Y_train,x_test[i],15)\n",
    "    mylist.append(p)\n",
    "\n",
    "outcomes = pd.DataFrame({'Outcome':np.array(mylist)})\n",
    "outcomes.to_csv('Diabetes_classification.csv',index = False)\n",
    "\n",
    "    \n",
    "        \n",
    "\n",
    "\n",
    "\n",
    "\n",
    "\n",
    "\n",
    "\n",
    "\n",
    "\n",
    "\n",
    "\n",
    "\n",
    "\n",
    "\n",
    "\n",
    "\n",
    "\n",
    "\n"
   ]
  },
  {
   "cell_type": "code",
   "execution_count": null,
   "metadata": {},
   "outputs": [],
   "source": [
    "\n",
    "\n"
   ]
  },
  {
   "cell_type": "code",
   "execution_count": null,
   "metadata": {},
   "outputs": [],
   "source": []
  }
 ],
 "metadata": {
  "kernelspec": {
   "display_name": "Python 3",
   "language": "python",
   "name": "python3"
  },
  "language_info": {
   "codemirror_mode": {
    "name": "ipython",
    "version": 3
   },
   "file_extension": ".py",
   "mimetype": "text/x-python",
   "name": "python",
   "nbconvert_exporter": "python",
   "pygments_lexer": "ipython3",
   "version": "3.8.1"
  }
 },
 "nbformat": 4,
 "nbformat_minor": 4
}
